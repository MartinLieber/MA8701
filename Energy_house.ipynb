{
 "cells": [
  {
   "cell_type": "code",
   "execution_count": 1,
   "metadata": {},
   "outputs": [],
   "source": [
    "import numpy as np\n",
    "import pandas as pd\n",
    "import matplotlib.pyplot as plt\n",
    "from sklearn import linear_model\n",
    "import seaborn as sns\n",
    "import datetime\n",
    "from group_lasso import GroupLasso"
   ]
  },
  {
   "cell_type": "code",
   "execution_count": 2,
   "metadata": {},
   "outputs": [],
   "source": [
    "def standardize(X,y):\n",
    "    # Standardize X to have mean = 0 std = 1\n",
    "    # Standardize y to have mean = 0\n",
    "    X_scaled = (X-np.mean(X,axis=0))/np.std(X,axis=0)\n",
    "    y_scaled = y-np.mean(y)\n",
    "    return X_scaled, y_scaled\n",
    "\n",
    "\n",
    "def plot_coefficients(beta,alpha,alpha_lim=10,name=None):\n",
    "    # Plotting regression coefficients vs lambda\n",
    "    beta_opt = beta[:,np.argmin(np.abs(alpha-alpha_lim))]\n",
    "    plt.figure()\n",
    "    plt.plot(alpha,beta.T,'-')\n",
    "    plt.plot(alpha_lim*np.array([1,1]), [np.min(beta), np.max(beta)], 'k--')\n",
    "    plt.xlabel(r'$\\lambda$')\n",
    "    plt.ylabel(r'$\\beta$')\n",
    "    plt.title(name)\n",
    "    plt.show()\n",
    "    "
   ]
  },
  {
   "cell_type": "code",
   "execution_count": null,
   "metadata": {},
   "outputs": [],
   "source": [
    "df = pd.read_csv('energydata_complete.csv')\n",
    "df['date'] = pd.to_datetime(df['date'])\n",
    "df = df.set_index('date')\n",
    "\n",
    "for i in range(len(df.columns)):\n",
    "    plt.figure()\n",
    "    plt.plot(df[df.columns[i]])\n",
    "    plt.ylabel(df.columns[i])\n",
    "    plt.show()"
   ]
  },
  {
   "cell_type": "markdown",
   "metadata": {},
   "source": [
    "### Taking an n-hour mean"
   ]
  },
  {
   "cell_type": "code",
   "execution_count": 4,
   "metadata": {},
   "outputs": [],
   "source": [
    "#df = df.resample('2h').mean()"
   ]
  },
  {
   "cell_type": "markdown",
   "metadata": {},
   "source": [
    "### Generating extra features to describe time\n",
    "weekday: number [0,6]\\\n",
    "weekstatus: binary describing weekend (1) or not (0)\\\n",
    "NSM: Number of Seconds from Midnight\n",
    "\n",
    "These are used for filtering the data"
   ]
  },
  {
   "cell_type": "code",
   "execution_count": 5,
   "metadata": {},
   "outputs": [],
   "source": [
    "weekday = np.zeros(len(df))\n",
    "weekstatus = np.zeros(len(df))\n",
    "NSM = np.zeros(len(df))\n",
    "month = np.zeros(len(df))\n",
    "\n",
    "for i in range(len(df)):\n",
    "    weekday[i] = df.index[i].weekday()\n",
    "    weekstatus[i] = True if weekday[i] >= 5 else False  # False for workday, True for weekend\n",
    "    NSM[i] = (df.index[i] - df.index[i].replace(hour=0, minute=0, second=0, microsecond=0)).total_seconds()\n",
    "    month[i] = df.index[i].month\n",
    "\n",
    "df['weekday'] = weekday\n",
    "df['week status'] = weekstatus\n",
    "df['NSM'] = NSM\n",
    "df['month'] = month"
   ]
  },
  {
   "cell_type": "code",
   "execution_count": null,
   "metadata": {},
   "outputs": [],
   "source": [
    "plt.figure()\n",
    "plt.scatter(df['NSM'],df['Appliances'])\n",
    "plt.xlabel('NSM')\n",
    "plt.ylabel('Appliances')\n",
    "plt.show()"
   ]
  },
  {
   "cell_type": "markdown",
   "metadata": {},
   "source": [
    "### Filtering data and making training set\n",
    "Example: Only february, after 16:00 and workday"
   ]
  },
  {
   "cell_type": "code",
   "execution_count": 7,
   "metadata": {},
   "outputs": [],
   "source": [
    "df_train = df[(df.index.month == 2) & (df['NSM']>54000) & (df['week status'] == 0)]\n",
    "df_train = df_train.drop(['weekday', 'week status','month','NSM'], axis=1) # dropping the features used for filtering\n",
    "\n",
    "# Training data\n",
    "y = np.array(df_train['Appliances']).reshape(-1,1)\n",
    "X = np.array(df_train[df_train.columns[1:]])\n",
    "X, y = standardize(X,y)"
   ]
  },
  {
   "cell_type": "markdown",
   "metadata": {},
   "source": [
    "### Lasso"
   ]
  },
  {
   "cell_type": "code",
   "execution_count": 9,
   "metadata": {},
   "outputs": [],
   "source": [
    "n_alpha = 50\n",
    "alpha_vals = np.linspace(0.1,15,n_alpha)\n",
    "beta_lasso = np.zeros((X.shape[1],n_alpha))\n",
    "\n",
    "for i in range(n_alpha):\n",
    "    reg = linear_model.Lasso(alpha=alpha_vals[i], max_iter = 1000, fit_intercept = False)\n",
    "    reg.fit(X,y)\n",
    "    beta_lasso[:,i] = reg.coef_"
   ]
  },
  {
   "cell_type": "markdown",
   "metadata": {},
   "source": [
    "### Ridge"
   ]
  },
  {
   "cell_type": "code",
   "execution_count": 10,
   "metadata": {},
   "outputs": [],
   "source": [
    "n_alpha = 50\n",
    "alpha_vals = np.linspace(0.1,50,n_alpha)\n",
    "beta_ridge = np.zeros((X.shape[1],n_alpha))\n",
    "\n",
    "for i in range(n_alpha):\n",
    "    beta_ridge[:,i] = (np.linalg.inv(X.T @ X + alpha_vals[i] * np.eye(len(X.T @ X))) @ X.T @ y).T"
   ]
  },
  {
   "cell_type": "markdown",
   "metadata": {},
   "source": [
    "### Elastic net"
   ]
  },
  {
   "cell_type": "code",
   "execution_count": 11,
   "metadata": {},
   "outputs": [],
   "source": [
    "n_alpha = 50\n",
    "alpha_vals = np.linspace(0.1,15,n_alpha)\n",
    "beta_elnet = np.zeros((X.shape[1],n_alpha))\n",
    "\n",
    "for i in range(n_alpha):\n",
    "    reg = linear_model.ElasticNet(alpha=alpha_vals[i], max_iter = 1000, l1_ratio=.5, fit_intercept = False)\n",
    "    reg.fit(X,y)\n",
    "    beta_elnet[:,i] = reg.coef_"
   ]
  },
  {
   "cell_type": "markdown",
   "metadata": {},
   "source": [
    "### Grouped Lasso\n",
    "Does not work yet"
   ]
  },
  {
   "cell_type": "code",
   "execution_count": 12,
   "metadata": {},
   "outputs": [],
   "source": [
    "n_alpha = 50\n",
    "alpha_vals = np.linspace(0.1,15,n_alpha)\n",
    "beta_glasso = np.zeros((X.shape[1],n_alpha))\n",
    "\n",
    "for i in range(n_alpha):\n",
    "    reg = GroupLasso(\n",
    "    group_reg=5,\n",
    "    l1_reg=1,\n",
    "    frobenius_lipschitz=True,\n",
    "    scale_reg=\"inverse_group_size\",\n",
    "    subsampling_scheme=1,\n",
    "    supress_warning=True,\n",
    "    n_iter=1000,\n",
    "    tol=1e-3,\n",
    "    )\n",
    "    reg.fit(X, y)\n",
    "    beta_glasso[:,i] = reg.coef_.reshape(-1,)"
   ]
  },
  {
   "cell_type": "markdown",
   "metadata": {},
   "source": [
    "### Plotting coefficients vs lambda"
   ]
  },
  {
   "cell_type": "code",
   "execution_count": null,
   "metadata": {},
   "outputs": [],
   "source": [
    "alpha_opt = 8   # Should be chosen for each regression using CV\n",
    "plot_coefficients(beta_ridge,alpha_vals,alpha_opt,name='Ridge')\n",
    "plot_coefficients(beta_lasso,alpha_vals,alpha_opt,name='Lasso')\n",
    "plot_coefficients(beta_elnet,alpha_vals,alpha_opt,name='Elastic net')\n",
    "plot_coefficients(beta_glasso,alpha_vals,alpha_opt,name='Grouped lasso')"
   ]
  }
 ],
 "metadata": {
  "kernelspec": {
   "display_name": "Python 3",
   "language": "python",
   "name": "python3"
  },
  "language_info": {
   "codemirror_mode": {
    "name": "ipython",
    "version": 3
   },
   "file_extension": ".py",
   "mimetype": "text/x-python",
   "name": "python",
   "nbconvert_exporter": "python",
   "pygments_lexer": "ipython3",
   "version": "3.8.5"
  }
 },
 "nbformat": 4,
 "nbformat_minor": 4
}

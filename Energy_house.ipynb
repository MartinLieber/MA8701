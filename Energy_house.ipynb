{
 "cells": [
  {
   "cell_type": "code",
   "execution_count": null,
   "metadata": {},
   "outputs": [],
   "source": [
    "import numpy as np\n",
    "import pandas as pd\n",
    "import matplotlib.pyplot as plt\n",
    "from sklearn import linear_model\n",
    "import seaborn as sns\n",
    "import datetime\n",
    "from group_lasso import GroupLasso\n",
    "from sklearn.utils import resample, check_random_state\n",
    "from sklearn.pipeline import Pipeline"
   ]
  },
  {
   "cell_type": "code",
   "execution_count": null,
   "metadata": {},
   "outputs": [],
   "source": [
    "def standardize(X,y):\n",
    "    # Standardize X to have mean = 0 std = 1\n",
    "    # Standardize y to have mean = 0\n",
    "    X_scaled = (X-np.mean(X,axis=0))/np.std(X,axis=0)\n",
    "    y_scaled = y-np.mean(y)\n",
    "    return X_scaled, y_scaled\n",
    "\n",
    "\n",
    "def plot_coefficients(beta,alpha,alpha_opt=10,name=None):\n",
    "    # Plotting regression coefficients vs lambda\n",
    "    beta_opt = beta[:,np.argmin(np.abs(alpha-alpha_opt))]\n",
    "    plt.figure()\n",
    "    plt.plot(np.log10(alpha),beta.T,'-')\n",
    "    plt.plot(np.log10(alpha_opt)*np.array([1,1]), [np.min(beta), np.max(beta)], 'k--')\n",
    "    plt.xlabel(r'$\\lambda$')\n",
    "    plt.ylabel(r'$\\beta$')\n",
    "    plt.title(name)\n",
    "    plt.show()\n",
    "\n",
    "def plot_CV_MSE(alpha_vals, mse, alpha_opt, name=None):\n",
    "    mse_mean = np.mean(mse,axis=1)\n",
    "    mse_std = np.std(mse,axis=1)\n",
    "    plt.figure()\n",
    "    plt.errorbar(np.log10(alpha_vals), mse_mean, mse_std)\n",
    "    plt.plot(np.log10([alpha_opt,alpha_opt]), [0,np.max(mse)],'k--')\n",
    "    plt.xlabel(r'log($\\lambda$)')\n",
    "    plt.ylabel('MSE')\n",
    "    plt.title(name)\n",
    "    plt.show()\n",
    "    print('Optimal value of lambda is: ', np.round(alpha_opt,3))\n",
    "\n",
    "def Bootstrap_loop(X,y,cv_model,b=20,N_samples=100):\n",
    "    \n",
    "    alphas = []\n",
    "    betas = np.zeros((N_samples,X.shape[1]))\n",
    "    for i in range(N_samples):\n",
    "        index_vector = np.arange(len(y))\n",
    "        boot_index = np.random.choice(index_vector, size=b)\n",
    "        X_sample = X[boot_index,:]\n",
    "        y_sample = y[boot_index]\n",
    "\n",
    "        cv = cv_model.fit(X_sample, y_sample)\n",
    "        alphas.append(cv.alpha_)\n",
    "        betas[i,:] = cv.coef_\n",
    "    return alphas, betas"
   ]
  },
  {
   "cell_type": "code",
   "execution_count": null,
   "metadata": {},
   "outputs": [],
   "source": [
    "df = pd.read_csv('energydata_complete.csv')\n",
    "df['date'] = pd.to_datetime(df['date'])\n",
    "df = df.set_index('date')\n",
    "\n",
    "for i in range(len(df.columns)):\n",
    "    plt.figure()\n",
    "    plt.plot(df[df.columns[i]])\n",
    "    plt.ylabel(df.columns[i])\n",
    "    plt.show()"
   ]
  },
  {
   "cell_type": "markdown",
   "metadata": {},
   "source": [
    "### Taking an n-hour mean"
   ]
  },
  {
   "cell_type": "code",
   "execution_count": null,
   "metadata": {},
   "outputs": [],
   "source": [
    "df = df.resample('24h').mean()"
   ]
  },
  {
   "cell_type": "markdown",
   "metadata": {},
   "source": [
    "### Generating extra features to describe time\n",
    "weekday: number [0,6]\\\n",
    "weekstatus: binary describing weekend (1) or not (0)\\\n",
    "NSM: Number of Seconds from Midnight\n",
    "\n",
    "These are used for filtering the data"
   ]
  },
  {
   "cell_type": "code",
   "execution_count": null,
   "metadata": {},
   "outputs": [],
   "source": [
    "weekday = np.zeros(len(df))\n",
    "weekstatus = np.zeros(len(df))\n",
    "NSM = np.zeros(len(df))\n",
    "month = np.zeros(len(df))\n",
    "\n",
    "for i in range(len(df)):\n",
    "    weekday[i] = df.index[i].weekday()\n",
    "    weekstatus[i] = True if weekday[i] >= 5 else False  # False for workday, True for weekend\n",
    "    NSM[i] = (df.index[i] - df.index[i].replace(hour=0, minute=0, second=0, microsecond=0)).total_seconds()\n",
    "    month[i] = df.index[i].month\n",
    "\n",
    "df['weekday'] = weekday\n",
    "df['week status'] = weekstatus\n",
    "df['NSM'] = NSM\n",
    "df['month'] = month"
   ]
  },
  {
   "cell_type": "code",
   "execution_count": null,
   "metadata": {},
   "outputs": [],
   "source": [
    "plt.figure()\n",
    "plt.scatter(df['NSM'],df['Appliances'])\n",
    "plt.xlabel('NSM')\n",
    "plt.ylabel('Appliances')\n",
    "plt.show()"
   ]
  },
  {
   "cell_type": "markdown",
   "metadata": {},
   "source": [
    "### Filtering data and making training set\n",
    "Example: Only february, after 16:00 and workday"
   ]
  },
  {
   "cell_type": "code",
   "execution_count": null,
   "metadata": {},
   "outputs": [],
   "source": [
    "#df_train = df[(df.index.month==2) & (df['NSM']>=16*3600) & (df['NSM']<24*3600)]\n",
    "df_train = df[(df.index.month==2)]\n",
    "df_train = df_train.drop(['weekday', 'week status','month','NSM'], axis=1) # dropping the features used for filtering\n",
    "\n",
    "# Training data\n",
    "y = np.array(df_train['Appliances']).reshape(-1,1)\n",
    "X = np.array(df_train[df_train.columns[1:]])\n",
    "X, y = standardize(X,y)"
   ]
  },
  {
   "cell_type": "code",
   "execution_count": null,
   "metadata": {},
   "outputs": [],
   "source": [
    "plt.figure()\n",
    "plt.scatter(X[:,19],y)\n",
    "plt.show()"
   ]
  },
  {
   "cell_type": "markdown",
   "metadata": {},
   "source": [
    "### Cross validation"
   ]
  },
  {
   "cell_type": "code",
   "execution_count": null,
   "metadata": {},
   "outputs": [],
   "source": [
    "# Creating array of penalties\n",
    "\n",
    "n_alpha = 100 # Number of penalties\n",
    "min_alpha = .01 # min penalty\n",
    "max_alpha = 200 # Maximum penalty\n",
    "alpha_vals = np.logspace(np.log10(min_alpha),np.log10(max_alpha),n_alpha)\n",
    "alpha_vals = alpha_vals[::-1] # reversing array (some sklearn standard?)"
   ]
  },
  {
   "cell_type": "markdown",
   "metadata": {},
   "source": [
    "#### CV Lasso"
   ]
  },
  {
   "cell_type": "code",
   "execution_count": null,
   "metadata": {},
   "outputs": [],
   "source": [
    "cv_lasso = linear_model.LassoCV(cv=10, random_state=0, fit_intercept=False, alphas=alpha_vals).fit(X, y)"
   ]
  },
  {
   "cell_type": "markdown",
   "metadata": {},
   "source": [
    "#### CV Ridge"
   ]
  },
  {
   "cell_type": "code",
   "execution_count": null,
   "metadata": {},
   "outputs": [],
   "source": [
    "cv_ridge = linear_model.ElasticNetCV(cv=10, random_state=0, l1_ratio=0, fit_intercept=False, alphas=alpha_vals).fit(X, y)"
   ]
  },
  {
   "cell_type": "markdown",
   "metadata": {},
   "source": [
    "#### CV Elastic net (0.5 ratio)"
   ]
  },
  {
   "cell_type": "code",
   "execution_count": null,
   "metadata": {},
   "outputs": [],
   "source": [
    "cv_elnet = linear_model.ElasticNetCV(cv=10, random_state=0, l1_ratio=0.5, fit_intercept=False, alphas=alpha_vals).fit(X, y)"
   ]
  },
  {
   "cell_type": "code",
   "execution_count": null,
   "metadata": {},
   "outputs": [],
   "source": [
    "print('Lasso score: ', cv_lasso.score(X,y))\n",
    "print('Ridge score: ', cv_ridge.score(X,y))\n",
    "print('Elastic net score: ', cv_elnet.score(X,y))"
   ]
  },
  {
   "cell_type": "code",
   "execution_count": null,
   "metadata": {},
   "outputs": [],
   "source": [
    "plot_CV_MSE(alpha_vals,cv_lasso.mse_path_,cv_lasso.alpha_, 'Lasso')\n",
    "plot_CV_MSE(alpha_vals,cv_ridge.mse_path_,cv_ridge.alpha_, 'Ridge')\n",
    "plot_CV_MSE(alpha_vals,cv_elnet.mse_path_,cv_elnet.alpha_, 'Elastic net')"
   ]
  },
  {
   "cell_type": "markdown",
   "metadata": {},
   "source": [
    "### Lasso"
   ]
  },
  {
   "cell_type": "code",
   "execution_count": null,
   "metadata": {},
   "outputs": [],
   "source": [
    "beta_lasso = np.zeros((X.shape[1],n_alpha))\n",
    "\n",
    "for i in range(n_alpha):\n",
    "    reg = linear_model.Lasso(alpha=alpha_vals[i], max_iter = 1000, fit_intercept = False)\n",
    "    reg.fit(X,y)\n",
    "    beta_lasso[:,i] = reg.coef_"
   ]
  },
  {
   "cell_type": "markdown",
   "metadata": {},
   "source": [
    "### Ridge"
   ]
  },
  {
   "cell_type": "code",
   "execution_count": null,
   "metadata": {},
   "outputs": [],
   "source": [
    "beta_ridge = np.zeros((X.shape[1],n_alpha))\n",
    "\n",
    "for i in range(n_alpha):\n",
    "    reg = linear_model.ElasticNet(alpha=alpha_vals[i], max_iter = 1000, l1_ratio=0, fit_intercept = False)\n",
    "    reg.fit(X,y)\n",
    "    beta_ridge[:,i] = reg.coef_"
   ]
  },
  {
   "cell_type": "markdown",
   "metadata": {},
   "source": [
    "### Elastic net"
   ]
  },
  {
   "cell_type": "code",
   "execution_count": null,
   "metadata": {},
   "outputs": [],
   "source": [
    "beta_elnet = np.zeros((X.shape[1],n_alpha))\n",
    "\n",
    "for i in range(n_alpha):\n",
    "    reg = linear_model.ElasticNet(alpha=alpha_vals[i], max_iter = 1000, l1_ratio=0.5, fit_intercept = False)\n",
    "    reg.fit(X,y)\n",
    "    beta_elnet[:,i] = reg.coef_"
   ]
  },
  {
   "cell_type": "markdown",
   "metadata": {},
   "source": [
    "### Group lasso"
   ]
  },
  {
   "cell_type": "code",
   "execution_count": null,
   "metadata": {},
   "outputs": [],
   "source": [
    "from sklearn.model_selection import cross_val_score\n",
    "beta_glasso = np.zeros((X.shape[1],n_alpha))\n",
    "#group_keys= {\"T\":-1,\n",
    "#            \"RH\":-1,\n",
    "#            \"\":-1}\n",
    "group_keys= {\"T\":1,\n",
    "            \"RH\":2,\n",
    "            \"\":-1}\n",
    "\n",
    "groups = []\n",
    "for var_name in df_train.columns[1:]:\n",
    "    for key, value in group_keys.items():\n",
    "        if key in var_name:\n",
    "            groups.append(value)\n",
    "            break\n",
    "# Group the rooms, and outside together\n",
    "groups=[-1, 1, 1, 2, 2, 3, 3, 4, 4, 5, 5, 6, 6, 7, 7, 8, 8, 9, 9, 10, 10, 10, 10, 10, 10, -1, -1]\n",
    "print(*zip(groups, df_train.columns[1:]))\n",
    "cv_outs = []\n",
    "min_cv = np.inf\n",
    "group_reg = 0.05\n",
    "for i in range(n_alpha):\n",
    "    reg = GroupLasso(\n",
    "    groups=groups,\n",
    "    group_reg=group_reg*alpha_vals[i],#alpha_vals[i],\n",
    "    l1_reg=(1-group_reg)*alpha_vals[i],\n",
    "    frobenius_lipschitz=True,\n",
    "    #scale_reg=\"inverse_group_size\",\n",
    "    #scale_reg=\"inverse_group_size\",\n",
    "    subsampling_scheme=1,\n",
    "    fit_intercept=False,\n",
    "    random_state=0,\n",
    "    supress_warning=True,\n",
    "    n_iter=10000,\n",
    "    tol=0.0001,\n",
    "    )\n",
    "    cv_out = cross_val_score(reg, X, y, cv=10, scoring='neg_mean_squared_error')\n",
    "    cv_outs.append(cv_out)\n",
    "    reg.fit(X, y)\n",
    "    beta_glasso[:,i] = reg.coef_.reshape(-1,)\n",
    "    #print(f\"mean {cv_out.mean()}, stdev {cv_out.std()}\")\n",
    "    if -cv_out.mean() < min_cv:\n",
    "        min_cv = -cv_out.mean()\n",
    "        gl_min_alpha = alpha_vals[i]\n",
    "plot_CV_MSE(alpha_vals, -np.array(cv_outs), gl_min_alpha, 'Grouped Lasso')"
   ]
  },
  {
   "cell_type": "markdown",
   "metadata": {},
   "source": [
    "### Plotting coefficients vs lambda"
   ]
  },
  {
   "cell_type": "code",
   "execution_count": null,
   "metadata": {},
   "outputs": [],
   "source": [
    "plot_coefficients(beta_ridge, alpha_vals, cv_ridge.alpha_, name='Ridge')\n",
    "plot_coefficients(beta_lasso, alpha_vals, cv_lasso.alpha_, name='Lasso')\n",
    "plot_coefficients(beta_elnet, alpha_vals, cv_elnet.alpha_, name='Elastic net')\n",
    "plot_coefficients(beta_glasso,alpha_vals, gl_min_alpha,name='Grouped lasso')"
   ]
  },
  {
   "cell_type": "code",
   "execution_count": null,
   "metadata": {},
   "outputs": [],
   "source": [
    "data = {'Feature': list(df_train.columns[1:])}\n",
    "df_results = pd.DataFrame(data)\n",
    "df_results['Lasso'] = beta_lasso[:,alpha_vals==cv_lasso.alpha_]\n",
    "df_results['Ridge'] = beta_ridge[:,alpha_vals==cv_ridge.alpha_]\n",
    "df_results['Elastic net'] = beta_elnet[:,alpha_vals==cv_elnet.alpha_]\n",
    "df_results['Group Lasso'] = beta_glasso[:,alpha_vals==gl_min_alpha]\n",
    "df_results"
   ]
  },
  {
   "cell_type": "markdown",
   "metadata": {},
   "source": [
    "### Testing with another month"
   ]
  },
  {
   "cell_type": "code",
   "execution_count": null,
   "metadata": {},
   "outputs": [],
   "source": [
    "#df_test = df[(df.index.month==2) & (df['NSM']>=16*3600) & (df['NSM']<24*3600)]\n",
    "df_test = df[(df.index.month==3)]\n",
    "df_test = df_test.drop(['weekday', 'week status','month'], axis=1) # dropping the features used for filtering\n",
    "\n",
    "# Testing data\n",
    "y_t = np.array(df_test['Appliances']).reshape(-1,1)\n",
    "X_t = np.array(df_test[df_test.columns[1:]])\n",
    "X_t, y_t = standardize(X_t,y_t)\n",
    "\n",
    "reg = linear_model.ElasticNet(alpha=cv_elnet.alpha_, max_iter = 1000, l1_ratio=0.5, fit_intercept = False)\n",
    "reg = linear_model.Lasso(alpha=cv_lasso.alpha_, max_iter = 1000, fit_intercept = False)\n",
    "reg.fit(X,y)\n",
    "y_p = reg.predict(X_t)\n",
    "\n",
    "plt.figure()\n",
    "plt.scatter(y_p,y_t)\n",
    "plt.show()\n",
    "print('Train score: 'reg.score(X,y))\n",
    "print('Test score: 'reg.score(X_t,y_t))"
   ]
  },
  {
   "cell_type": "markdown",
   "metadata": {},
   "source": [
    "### Bootstrap CV"
   ]
  },
  {
   "cell_type": "code",
   "execution_count": null,
   "metadata": {},
   "outputs": [],
   "source": [
    "boot_samples = len(df_train)\n",
    "boot_size = len(df_train)\n",
    "\n",
    "cv_model = linear_model.LassoCV(cv=10, random_state=0, fit_intercept=False, alphas=alpha_vals)\n",
    "alphas_lasso, betas_lasso = Bootstrap_loop(X,y,cv_model,b=boot_size,N_samples=boot_samples)\n",
    "cv_model = linear_model.ElasticNetCV(cv=10, random_state=0, l1_ratio=0, fit_intercept=False, alphas=alpha_vals)\n",
    "alphas_ridge, betas_ridge = Bootstrap_loop(X,y,cv_model,b=boot_size,N_samples=boot_samples)"
   ]
  },
  {
   "cell_type": "code",
   "execution_count": null,
   "metadata": {},
   "outputs": [],
   "source": [
    "plt.figure(figsize=(12,8), dpi= 100, facecolor='w', edgecolor='k')\n",
    "plt.boxplot(betas_lasso,labels=df_train.columns[1:])\n",
    "plt.xticks(rotation='vertical')\n",
    "plt.title('Lasso')\n",
    "plt.show()\n",
    "\n",
    "plt.figure(figsize=(12,8), dpi= 100, facecolor='w', edgecolor='k')\n",
    "plt.boxplot(betas_ridge,labels=df_train.columns[1:])\n",
    "plt.xticks(rotation='vertical')\n",
    "plt.title('Ridge')\n",
    "plt.show()"
   ]
  },
  {
   "cell_type": "code",
   "execution_count": null,
   "metadata": {},
   "outputs": [],
   "source": [
    "number_of_zeros = np.sum(betas_lasso == 0,axis=0)\n",
    "y_pos = np.arange(len(df_train.columns[1:]))\n",
    "\n",
    "# Sorting in descenting order\n",
    "labels = df_train.columns[1:][number_of_zeros.argsort()][::-1]\n",
    "number_of_zeros[::-1].sort()\n",
    "\n",
    "\n",
    "plt.figure(figsize=(12,8), dpi= 100, facecolor='w', edgecolor='k')\n",
    "plt.barh(y_pos,number_of_zeros ,align='center', alpha=0.5)\n",
    "plt.yticks(y_pos, labels)\n",
    "plt.show()"
   ]
  }
 ],
 "metadata": {
  "kernelspec": {
   "display_name": "Python 3",
   "language": "python",
   "name": "python3"
  },
  "language_info": {
   "codemirror_mode": {
    "name": "ipython",
    "version": 3
   },
   "file_extension": ".py",
   "mimetype": "text/x-python",
   "name": "python",
   "nbconvert_exporter": "python",
   "pygments_lexer": "ipython3",
   "version": "3.8.5"
  }
 },
 "nbformat": 4,
 "nbformat_minor": 4
}
